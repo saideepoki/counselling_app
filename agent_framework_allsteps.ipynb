{
 "cells": [
  {
   "cell_type": "code",
   "execution_count": 1,
   "metadata": {},
   "outputs": [
    {
     "name": "stdout",
     "output_type": "stream",
     "text": [
      "Defaulting to user installation because normal site-packages is not writeable\n",
      "Requirement already satisfied: langchain in c:\\users\\kartheek kotha\\appdata\\roaming\\python\\python312\\site-packages (0.3.4)\n",
      "Requirement already satisfied: PyYAML>=5.3 in c:\\users\\kartheek kotha\\appdata\\roaming\\python\\python312\\site-packages (from langchain) (6.0.2)\n",
      "Requirement already satisfied: SQLAlchemy<3,>=1.4 in c:\\users\\kartheek kotha\\appdata\\roaming\\python\\python312\\site-packages (from langchain) (2.0.35)\n",
      "Requirement already satisfied: aiohttp<4.0.0,>=3.8.3 in c:\\users\\kartheek kotha\\appdata\\roaming\\python\\python312\\site-packages (from langchain) (3.10.9)\n",
      "Requirement already satisfied: langchain-core<0.4.0,>=0.3.12 in c:\\users\\kartheek kotha\\appdata\\roaming\\python\\python312\\site-packages (from langchain) (0.3.12)\n",
      "Requirement already satisfied: langchain-text-splitters<0.4.0,>=0.3.0 in c:\\users\\kartheek kotha\\appdata\\roaming\\python\\python312\\site-packages (from langchain) (0.3.0)\n",
      "Requirement already satisfied: langsmith<0.2.0,>=0.1.17 in c:\\users\\kartheek kotha\\appdata\\roaming\\python\\python312\\site-packages (from langchain) (0.1.133)\n",
      "Requirement already satisfied: numpy<2.0.0,>=1.26.0 in c:\\users\\kartheek kotha\\appdata\\roaming\\python\\python312\\site-packages (from langchain) (1.26.4)\n",
      "Requirement already satisfied: pydantic<3.0.0,>=2.7.4 in c:\\users\\kartheek kotha\\appdata\\roaming\\python\\python312\\site-packages (from langchain) (2.9.2)\n",
      "Requirement already satisfied: requests<3,>=2 in c:\\users\\kartheek kotha\\appdata\\roaming\\python\\python312\\site-packages (from langchain) (2.32.3)\n",
      "Requirement already satisfied: tenacity!=8.4.0,<10,>=8.1.0 in c:\\users\\kartheek kotha\\appdata\\roaming\\python\\python312\\site-packages (from langchain) (8.5.0)\n",
      "Requirement already satisfied: aiohappyeyeballs>=2.3.0 in c:\\users\\kartheek kotha\\appdata\\roaming\\python\\python312\\site-packages (from aiohttp<4.0.0,>=3.8.3->langchain) (2.4.3)\n",
      "Requirement already satisfied: aiosignal>=1.1.2 in c:\\users\\kartheek kotha\\appdata\\roaming\\python\\python312\\site-packages (from aiohttp<4.0.0,>=3.8.3->langchain) (1.3.1)\n",
      "Requirement already satisfied: attrs>=17.3.0 in c:\\users\\kartheek kotha\\appdata\\roaming\\python\\python312\\site-packages (from aiohttp<4.0.0,>=3.8.3->langchain) (24.2.0)\n",
      "Requirement already satisfied: frozenlist>=1.1.1 in c:\\users\\kartheek kotha\\appdata\\roaming\\python\\python312\\site-packages (from aiohttp<4.0.0,>=3.8.3->langchain) (1.4.1)\n",
      "Requirement already satisfied: multidict<7.0,>=4.5 in c:\\users\\kartheek kotha\\appdata\\roaming\\python\\python312\\site-packages (from aiohttp<4.0.0,>=3.8.3->langchain) (6.1.0)\n",
      "Requirement already satisfied: yarl<2.0,>=1.12.0 in c:\\users\\kartheek kotha\\appdata\\roaming\\python\\python312\\site-packages (from aiohttp<4.0.0,>=3.8.3->langchain) (1.14.0)\n",
      "Requirement already satisfied: jsonpatch<2.0,>=1.33 in c:\\users\\kartheek kotha\\appdata\\roaming\\python\\python312\\site-packages (from langchain-core<0.4.0,>=0.3.12->langchain) (1.33)\n",
      "Requirement already satisfied: packaging<25,>=23.2 in c:\\users\\kartheek kotha\\appdata\\roaming\\python\\python312\\site-packages (from langchain-core<0.4.0,>=0.3.12->langchain) (24.1)\n",
      "Requirement already satisfied: typing-extensions>=4.7 in c:\\users\\kartheek kotha\\appdata\\roaming\\python\\python312\\site-packages (from langchain-core<0.4.0,>=0.3.12->langchain) (4.12.2)\n",
      "Requirement already satisfied: httpx<1,>=0.23.0 in c:\\users\\kartheek kotha\\appdata\\roaming\\python\\python312\\site-packages (from langsmith<0.2.0,>=0.1.17->langchain) (0.27.2)\n",
      "Requirement already satisfied: orjson<4.0.0,>=3.9.14 in c:\\users\\kartheek kotha\\appdata\\roaming\\python\\python312\\site-packages (from langsmith<0.2.0,>=0.1.17->langchain) (3.10.7)\n",
      "Requirement already satisfied: requests-toolbelt<2.0.0,>=1.0.0 in c:\\users\\kartheek kotha\\appdata\\roaming\\python\\python312\\site-packages (from langsmith<0.2.0,>=0.1.17->langchain) (1.0.0)\n",
      "Requirement already satisfied: annotated-types>=0.6.0 in c:\\users\\kartheek kotha\\appdata\\roaming\\python\\python312\\site-packages (from pydantic<3.0.0,>=2.7.4->langchain) (0.7.0)\n",
      "Requirement already satisfied: pydantic-core==2.23.4 in c:\\users\\kartheek kotha\\appdata\\roaming\\python\\python312\\site-packages (from pydantic<3.0.0,>=2.7.4->langchain) (2.23.4)\n",
      "Requirement already satisfied: charset-normalizer<4,>=2 in c:\\users\\kartheek kotha\\appdata\\roaming\\python\\python312\\site-packages (from requests<3,>=2->langchain) (3.3.2)\n",
      "Requirement already satisfied: idna<4,>=2.5 in c:\\users\\kartheek kotha\\appdata\\roaming\\python\\python312\\site-packages (from requests<3,>=2->langchain) (3.10)\n",
      "Requirement already satisfied: urllib3<3,>=1.21.1 in c:\\users\\kartheek kotha\\appdata\\roaming\\python\\python312\\site-packages (from requests<3,>=2->langchain) (2.2.3)\n",
      "Requirement already satisfied: certifi>=2017.4.17 in c:\\users\\kartheek kotha\\appdata\\roaming\\python\\python312\\site-packages (from requests<3,>=2->langchain) (2024.8.30)\n",
      "Requirement already satisfied: greenlet!=0.4.17 in c:\\users\\kartheek kotha\\appdata\\roaming\\python\\python312\\site-packages (from SQLAlchemy<3,>=1.4->langchain) (3.1.1)\n",
      "Requirement already satisfied: anyio in c:\\users\\kartheek kotha\\appdata\\roaming\\python\\python312\\site-packages (from httpx<1,>=0.23.0->langsmith<0.2.0,>=0.1.17->langchain) (4.6.0)\n",
      "Requirement already satisfied: httpcore==1.* in c:\\users\\kartheek kotha\\appdata\\roaming\\python\\python312\\site-packages (from httpx<1,>=0.23.0->langsmith<0.2.0,>=0.1.17->langchain) (1.0.6)\n",
      "Requirement already satisfied: sniffio in c:\\users\\kartheek kotha\\appdata\\roaming\\python\\python312\\site-packages (from httpx<1,>=0.23.0->langsmith<0.2.0,>=0.1.17->langchain) (1.3.1)\n",
      "Requirement already satisfied: h11<0.15,>=0.13 in c:\\users\\kartheek kotha\\appdata\\roaming\\python\\python312\\site-packages (from httpcore==1.*->httpx<1,>=0.23.0->langsmith<0.2.0,>=0.1.17->langchain) (0.14.0)\n",
      "Requirement already satisfied: jsonpointer>=1.9 in c:\\users\\kartheek kotha\\appdata\\roaming\\python\\python312\\site-packages (from jsonpatch<2.0,>=1.33->langchain-core<0.4.0,>=0.3.12->langchain) (3.0.0)\n",
      "Requirement already satisfied: propcache>=0.2.0 in c:\\users\\kartheek kotha\\appdata\\roaming\\python\\python312\\site-packages (from yarl<2.0,>=1.12.0->aiohttp<4.0.0,>=3.8.3->langchain) (0.2.0)\n"
     ]
    }
   ],
   "source": [
    "! pip install langchain\n",
    "! pip install -qU langchain_mistralai\n",
    "! pip install langchain-community"
   ]
  },
  {
   "cell_type": "code",
   "execution_count": 6,
   "metadata": {},
   "outputs": [],
   "source": [
    "import getpass\n",
    "import os\n",
    "os.environ[\"MISTRAL_API_KEY\"] = getpass.getpass(\"Enter your Mistral API key: \")"
   ]
  },
  {
   "cell_type": "code",
   "execution_count": 7,
   "metadata": {},
   "outputs": [],
   "source": [
    "from langchain.agents import initialize_agent, AgentExecutor\n",
    "from langchain_mistralai import ChatMistralAI\n",
    "from langchain.tools import Tool\n",
    "\n",
    "from langchain.chains import LLMChain\n",
    "from langchain_core.prompts import PromptTemplate, MessagesPlaceholder"
   ]
  },
  {
   "cell_type": "code",
   "execution_count": 8,
   "metadata": {},
   "outputs": [],
   "source": [
    "llm_model = ChatMistralAI(\n",
    "    model=\"mistral-large-latest\",\n",
    "    temperature=0,\n",
    "    max_retries=2,\n",
    ")"
   ]
  },
  {
   "cell_type": "markdown",
   "metadata": {},
   "source": [
    "### Without Multi-Agents"
   ]
  },
  {
   "cell_type": "code",
   "execution_count": 69,
   "metadata": {},
   "outputs": [],
   "source": [
    "template = \"\"\"\n",
    "You are a counselor, Generate a response to the user's text: \n",
    "{user_text}\n",
    "\"\"\""
   ]
  },
  {
   "cell_type": "code",
   "execution_count": 70,
   "metadata": {},
   "outputs": [],
   "source": [
    "llm_chain = LLMChain(llm=llm_model, prompt=PromptTemplate(input_variables=[\"user_text\"],\n",
    "                                                                 template=template))"
   ]
  },
  {
   "cell_type": "code",
   "execution_count": 71,
   "metadata": {},
   "outputs": [],
   "source": [
    "def run_generation(user_text):\n",
    "    final_response = llm_chain.run(user_text=user_text)\n",
    "    return final_response"
   ]
  },
  {
   "cell_type": "code",
   "execution_count": 72,
   "metadata": {},
   "outputs": [],
   "source": [
    "user_text = \"I am failing in every project I take up, and I feel like a failure, and my life is going nowhere. My wife thinks I am stupid, I want to die\"\n",
    "output = run_generation(user_text)"
   ]
  },
  {
   "cell_type": "code",
   "execution_count": 73,
   "metadata": {},
   "outputs": [
    {
     "data": {
      "text/plain": [
       "\"I'm really sorry that you're feeling this way, but I'm here to help. It's important to remember that everyone faces challenges and setbacks, and it doesn't reflect your worth as a person. Here are a few things to consider:\\n\\n1. **It's okay to struggle**: Everyone struggles with projects and goals at times. It's a normal part of life and doesn't mean you're a failure.\\n\\n2. **Seek support**: Talk to someone you trust about how you're feeling. This could be a friend, family member, or a professional counselor. They can provide a different perspective and help you navigate through this difficult time.\\n\\n3. **Communicate with your wife**: Open up about how her words make you feel. It's possible she doesn't realize the impact of her comments. Couples counseling could be a safe space to have this conversation.\\n\\n4. **Reframe your thoughts**: Instead of thinking about where you aren't, focus on the progress you've made and the things you've learned. Every setback is an opportunity to grow.\\n\\n5. **Self-care**: Make sure you're taking care of your physical health. Eat well, stay hydrated, and try to get regular exercise. These habits can greatly improve your mood and energy levels.\\n\\n6. **Professional help**: If feelings of hopelessness persist, it's crucial to speak to a mental health professional. They can provide strategies and tools tailored to your situation.\\n\\nPlease remember that you're not alone in feeling this way, and there are people who care about you and want to help. If you're having suicidal thoughts, it's essential to reach out to a mental health professional or a helpline immediately. You deserve to be heard and supported.\\n\\nHere are some resources:\\n- International Association for Suicide Prevention: https://www.iasp.info/resources/Crisis_Centres/\\n- National Suicide Prevention Lifeline (USA): 1-800-273-TALK (8255)\\n- Crisis Text Line (USA): Text HOME to 741741\\n- Samaritans (UK): 116 123\""
      ]
     },
     "execution_count": 73,
     "metadata": {},
     "output_type": "execute_result"
    }
   ],
   "source": [
    "output"
   ]
  },
  {
   "cell_type": "markdown",
   "metadata": {},
   "source": [
    "### With Multi-agents"
   ]
  },
  {
   "cell_type": "code",
   "execution_count": 91,
   "metadata": {},
   "outputs": [],
   "source": [
    "attributes = [\"Reframing\", \"Unconditional Positive Regard\", \"Solution-Focused\"]"
   ]
  },
  {
   "cell_type": "code",
   "execution_count": 92,
   "metadata": {},
   "outputs": [],
   "source": [
    "debate_prompt_template = \"\"\"\n",
    "You are a counselor agent specializing in {attribute}.\n",
    "Debate with your co-expertise agents to generate a response why you think your expertise is needed in this user's post.\n",
    "User post: \"{user_post}\"\n",
    "Previous debate history: {debate_history}\n",
    "Converse in short and concise and to the point of your expertise in {attribute}.\n",
    "\"\"\""
   ]
  },
  {
   "cell_type": "code",
   "execution_count": 93,
   "metadata": {},
   "outputs": [],
   "source": [
    "debate_chains = []\n",
    "for attribute in attributes:\n",
    "    prompt_template = PromptTemplate(input_variables=[\"user_post\", \"debate_history\"], template=debate_prompt_template)\n",
    "    debate_chain = LLMChain(llm=llm_model, prompt=prompt_template)\n",
    "    debate_chains.append((debate_chain, attribute))"
   ]
  },
  {
   "cell_type": "code",
   "execution_count": 94,
   "metadata": {},
   "outputs": [
    {
     "name": "stdout",
     "output_type": "stream",
     "text": [
      "[(LLMChain(verbose=False, prompt=PromptTemplate(input_variables=['attribute', 'debate_history', 'user_post'], input_types={}, partial_variables={}, template='\\nYou are a counselor agent specializing in {attribute}.\\nDebate with your co-expertise agents to generate a response why you think your expertise is needed in this user\\'s post.\\nUser post: \"{user_post}\"\\nPrevious debate history: {debate_history}\\nConverse in short and concise and to the point of your expertise in {attribute}.\\n'), llm=ChatMistralAI(client=<httpx.Client object at 0x00000136920B1FA0>, async_client=<httpx.AsyncClient object at 0x000001369221FDA0>, mistral_api_key=SecretStr('**********'), endpoint='https://api.mistral.ai/v1', max_retries=2, model='mistral-large-latest', temperature=0.0), output_parser=StrOutputParser(), llm_kwargs={}), 'Reframing'), (LLMChain(verbose=False, prompt=PromptTemplate(input_variables=['attribute', 'debate_history', 'user_post'], input_types={}, partial_variables={}, template='\\nYou are a counselor agent specializing in {attribute}.\\nDebate with your co-expertise agents to generate a response why you think your expertise is needed in this user\\'s post.\\nUser post: \"{user_post}\"\\nPrevious debate history: {debate_history}\\nConverse in short and concise and to the point of your expertise in {attribute}.\\n'), llm=ChatMistralAI(client=<httpx.Client object at 0x00000136920B1FA0>, async_client=<httpx.AsyncClient object at 0x000001369221FDA0>, mistral_api_key=SecretStr('**********'), endpoint='https://api.mistral.ai/v1', max_retries=2, model='mistral-large-latest', temperature=0.0), output_parser=StrOutputParser(), llm_kwargs={}), 'Unconditional Positive Regard'), (LLMChain(verbose=False, prompt=PromptTemplate(input_variables=['attribute', 'debate_history', 'user_post'], input_types={}, partial_variables={}, template='\\nYou are a counselor agent specializing in {attribute}.\\nDebate with your co-expertise agents to generate a response why you think your expertise is needed in this user\\'s post.\\nUser post: \"{user_post}\"\\nPrevious debate history: {debate_history}\\nConverse in short and concise and to the point of your expertise in {attribute}.\\n'), llm=ChatMistralAI(client=<httpx.Client object at 0x00000136920B1FA0>, async_client=<httpx.AsyncClient object at 0x000001369221FDA0>, mistral_api_key=SecretStr('**********'), endpoint='https://api.mistral.ai/v1', max_retries=2, model='mistral-large-latest', temperature=0.0), output_parser=StrOutputParser(), llm_kwargs={}), 'Solution-Focused')]\n"
     ]
    }
   ],
   "source": [
    "print(debate_chains)"
   ]
  },
  {
   "cell_type": "code",
   "execution_count": 95,
   "metadata": {},
   "outputs": [],
   "source": [
    "\n",
    "# Stage 1: Strategic Debating\n",
    "def run_strategic_debate(user_post, num_turns=2):\n",
    "    debate_history = []\n",
    "    debate_history_str = \"\\n\".join(debate_history) if debate_history else \"No prior history.\"\n",
    "    \n",
    "    for turn in range(num_turns):\n",
    "        for debate_chain, attribute in debate_chains:\n",
    "            response = debate_chain.run(user_post=user_post, debate_history=debate_history_str, attribute=attribute)\n",
    "            debate_history.append(response)\n",
    "        debate_history_str = \"\\n\".join(debate_history)\n",
    "    return debate_history\n"
   ]
  },
  {
   "cell_type": "code",
   "execution_count": 96,
   "metadata": {},
   "outputs": [],
   "source": [
    "input_text = \"I am failing in every project I take up, and I feel like a failure, and my life is going nowhere. My wife thinks I am stupid, I want to die\"\n",
    "debate_history = run_strategic_debate(input_text)\n",
    "# final_response = generate_response(input_text, counselor_profile)\n",
    "# print(counselor_profile.content)"
   ]
  },
  {
   "cell_type": "code",
   "execution_count": 97,
   "metadata": {},
   "outputs": [
    {
     "data": {
      "text/plain": [
       "['**Counselor Agent (Reframing Expert):**\\n\\n\"The user\\'s post is filled with negative self-talk and a distorted perception of their situation. Reframing is crucial here to help them see their experiences in a more balanced and constructive light. By reframing \\'failing in every project\\' to \\'learning from each attempt,\\' and \\'feeling like a failure\\' to \\'recognizing areas for growth,\\' we can shift their mindset from despair to potential. Additionally, addressing the perception that \\'my wife thinks I am stupid\\' can be reframed to \\'my wife may be frustrated, but let\\'s explore her perspective together.\\' Reframing can transform their outlook and provide a foundation for positive change.\"\\n\\n**Co-Expertise Agent (Cognitive Behavioral Therapy Expert):**\\n\\n\"While reframing is important, Cognitive Behavioral Therapy (CBT) can provide a structured approach to identify and challenge the user\\'s negative thought patterns. CBT techniques can help them recognize cognitive distortions and replace them with more realistic and positive thoughts. This can complement reframing by offering practical tools for long-term change.\"\\n\\n**Counselor Agent (Reframing Expert):**\\n\\n\"Absolutely, CBT is valuable, but reframing is the immediate step needed to shift their current mindset. By reframing their thoughts, we can create a more positive and hopeful perspective, making them more receptive to the structured approach of CBT. Reframing sets the stage for deeper therapeutic work.\"\\n\\n**Co-Expertise Agent (Mindfulness Expert):**\\n\\n\"Mindfulness can also play a role by helping the user stay present and non-judgmental. This can complement reframing by reducing the emotional intensity of their negative thoughts, making it easier to reframe them.\"\\n\\n**Counselor Agent (Reframing Expert):**\\n\\n\"Indeed, mindfulness can enhance the effectiveness of reframing. By combining these approaches, we can provide a comprehensive strategy to help the user overcome their current challenges and improve their overall well-being.\"',\n",
       " '**Counselor Agent (Unconditional Positive Regard):**\\n\\n\"This user is clearly experiencing deep self-doubt and feelings of failure. Unconditional Positive Regard is crucial here because it provides a non-judgmental, accepting environment. By offering empathy and valuing the user\\'s experiences without conditions, we can help them feel heard and understood. This approach can reduce their feelings of isolation and self-deprecation, fostering a sense of self-worth and encouraging them to seek further support.\"\\n\\n**Co-Expertise Agent (Cognitive Behavioral Therapy):**\\n\\n\"While Unconditional Positive Regard is important, Cognitive Behavioral Therapy (CBT) can address the user\\'s negative thought patterns. By identifying and challenging these thoughts, we can help them develop more positive and realistic perspectives, which can improve their self-esteem and motivation.\"\\n\\n**Counselor Agent (Unconditional Positive Regard):**\\n\\n\"Absolutely, CBT is valuable. However, establishing a foundation of Unconditional Positive Regard is essential for creating a safe space where the user feels comfortable exploring and challenging their negative thoughts. This acceptance can enhance the effectiveness of CBT techniques.\"\\n\\n**Co-Expertise Agent (Mindfulness):**\\n\\n\"Mindfulness practices can complement Unconditional Positive Regard by helping the user stay present and non-judgmental towards their own thoughts and emotions. This can reduce anxiety and improve their overall well-being.\"\\n\\n**Counselor Agent (Unconditional Positive Regard):**\\n\\n\"Exactly. Unconditional Positive Regard, combined with mindfulness and CBT, can provide a holistic approach to support the user in overcoming their feelings of failure and building a more positive self-image.\"',\n",
       " '**Solution-Focused Counselor Agent:**\\n\\n\"This user\\'s post indicates a deep sense of despair and a focus on problems. Solution-Focused therapy is crucial here because it shifts attention from problems to solutions. By exploring exceptions to their failures and identifying past successes, we can help the user build a more positive self-image. Additionally, setting small, achievable goals can provide a sense of direction and accomplishment, addressing their feeling that life is going nowhere. This approach can offer hope and a path forward, which is essential given the user\\'s suicidal ideation.\"\\n\\n**Co-expertise Agent (e.g., Cognitive-Behavioral Therapy Agent):**\\n\\n\"While Solution-Focused therapy has its merits, Cognitive-Behavioral Therapy (CBT) could also be beneficial. CBT can help the user identify and challenge negative thought patterns, such as \\'I am stupid\\' and \\'I am a failure.\\' By modifying these thoughts, the user can experience a shift in emotions and behaviors. Additionally, CBT provides coping strategies that can be immediately applied to manage suicidal thoughts.\"\\n\\n**Solution-Focused Counselor Agent:**\\n\\n\"CBT is indeed valuable, but Solution-Focused therapy offers a unique advantage by focusing on the user\\'s strengths and resources rather than dwelling on negative thoughts. By emphasizing what is already working and building on those successes, we can empower the user to make positive changes more quickly. This strength-based approach can be particularly motivating and uplifting for someone in such a desperate state.\"\\n\\n**Conclusion:**\\n\\n\"Given the user\\'s current mindset, a combination of Solution-Focused therapy to build hope and momentum, along with CBT to address negative thought patterns, could provide a comprehensive and effective approach to their situation.\"',\n",
       " '**Counselor Agent (Reframing Expert):**\\n\\n\"While Solution-Focused therapy and CBT offer valuable approaches, reframing is essential for immediate mindset shift. By reframing \\'failing in every project\\' to \\'gathering diverse experiences,\\' and \\'feeling like a failure\\' to \\'identifying growth opportunities,\\' we can quickly instill a sense of hope and possibility. Reframing \\'my wife thinks I am stupid\\' to \\'my wife may be expressing frustration differently\\' can also improve their interpersonal perspective. This sets a positive foundation for other therapeutic work, making the user more receptive to Solution-Focused therapy and CBT techniques.\"',\n",
       " '**Counselor Agent (Unconditional Positive Regard):**\\n\\n\"The user\\'s post reflects a profound sense of self-rejection and despair. Unconditional Positive Regard is essential here because it offers an accepting and non-judgmental space, which is crucial for someone feeling like a failure. By providing empathy and valuing their experiences unconditionally, we can help reduce their feelings of isolation and self-deprecation. This acceptance can foster a sense of self-worth and encourage them to engage more openly in other therapeutic approaches like CBT and Solution-Focused therapy. Without this foundation of acceptance, the user may struggle to trust and fully benefit from other interventions.\"\\n\\n**Co-Expertise Agent (Cognitive Behavioral Therapy):**\\n\\n\"While Unconditional Positive Regard is important for creating a safe space, CBT can directly address the user\\'s negative thought patterns. By identifying and challenging these thoughts, we can help them develop more positive and realistic perspectives.\"\\n\\n**Counselor Agent (Unconditional Positive Regard):**\\n\\n\"Absolutely, CBT is valuable. However, the user\\'s deep self-doubt and feelings of failure require a non-judgmental environment first. Unconditional Positive Regard can provide the emotional safety needed for the user to feel comfortable exploring and challenging their negative thoughts. This acceptance can enhance the effectiveness of CBT techniques by making the user more receptive to change.\"\\n\\n**Co-Expertise Agent (Mindfulness):**\\n\\n\"Mindfulness practices can complement Unconditional Positive Regard by helping the user stay present and non-judgmental towards their own thoughts and emotions. This can reduce anxiety and improve their overall well-being.\"\\n\\n**Counselor Agent (Unconditional Positive Regard):**\\n\\n\"Exactly. Unconditional Positive Regard, combined with mindfulness and CBT, can provide a holistic approach to support the user in overcoming their feelings of failure and building a more positive self-image. The acceptance and empathy offered by Unconditional Positive Regard are foundational for any therapeutic progress.\"\\n\\n**Conclusion:**\\n\\n\"Given the user\\'s current mindset, a combination of Unconditional Positive Regard to foster acceptance and self-worth, along with CBT to address negative thought patterns and mindfulness to stay present, could provide a comprehensive and effective approach to their situation.\"',\n",
       " '**Solution-Focused Counselor Agent:**\\n\\n\"The user\\'s post clearly shows a focus on problems and a lack of hope. Solution-Focused therapy is essential here because it redirects attention to solutions and strengths. By exploring past successes and setting achievable goals, we can help the user regain a sense of control and purpose. This approach is crucial for instilling hope and providing a path forward, especially given the user\\'s suicidal thoughts. While CBT addresses negative thoughts, Solution-Focused therapy builds on what\\'s already working, offering a proactive and empowering perspective.\"\\n\\n**Co-expertise Agent (Cognitive-Behavioral Therapy):**\\n\\n\"CBT can complement this by providing tools to manage negative thoughts and prevent relapse into despair.\"\\n\\n**Solution-Focused Counselor Agent:**\\n\\n\"Absolutely, CBT is valuable for long-term change. However, Solution-Focused therapy is key for immediate progress. By focusing on exceptions to their failures and amplifying their strengths, we can quickly shift the user\\'s mindset from hopeless to hopeful. This approach is vital for creating momentum towards a more positive future.\"\\n\\n**Conclusion:**\\n\\n\"A combination of Solution-Focused therapy to ignite hope and CBT to manage negative thoughts offers a robust strategy to help the user overcome their current crisis and build resilience.\"']"
      ]
     },
     "execution_count": 97,
     "metadata": {},
     "output_type": "execute_result"
    }
   ],
   "source": [
    "debate_history"
   ]
  },
  {
   "cell_type": "code",
   "execution_count": 98,
   "metadata": {},
   "outputs": [],
   "source": [
    "counseling_prompt_template = \"\"\"\n",
    "You are a counselor compass. Using the following debate history:\n",
    "{debate_history}\n",
    "Access the debate history of three counselors (solution-focused , UnconditionalPostive Regard , Reframing) above and \n",
    "generate the scores for each counselor out of 5 on how important they are for the user's input.\n",
    "Just give the three scores respectively for (solution-focused , UnconditionalPostive Regard , Reframing) separated by commas.\n",
    "\"\"\""
   ]
  },
  {
   "cell_type": "code",
   "execution_count": 99,
   "metadata": {},
   "outputs": [],
   "source": [
    "counseling_chain = LLMChain(llm=llm_model, prompt=PromptTemplate(input_variables=[\"debate_history\"],\n",
    "                                                                 template=counseling_prompt_template))"
   ]
  },
  {
   "cell_type": "code",
   "execution_count": 100,
   "metadata": {},
   "outputs": [],
   "source": [
    "def run_counseling_stage(debate_history):\n",
    "    debate_history_str = \"\\n\".join(debate_history)\n",
    "    counseling_output = counseling_chain.run(debate_history=debate_history_str)\n",
    "    return counseling_output"
   ]
  },
  {
   "cell_type": "code",
   "execution_count": 101,
   "metadata": {},
   "outputs": [],
   "source": [
    "counseling_output = run_counseling_stage(debate_history)"
   ]
  },
  {
   "cell_type": "code",
   "execution_count": 102,
   "metadata": {},
   "outputs": [
    {
     "data": {
      "text/plain": [
       "'4, 5, 5'"
      ]
     },
     "execution_count": 102,
     "metadata": {},
     "output_type": "execute_result"
    }
   ],
   "source": [
    "counseling_output"
   ]
  },
  {
   "cell_type": "code",
   "execution_count": 103,
   "metadata": {},
   "outputs": [],
   "source": [
    "response_generation_prompt_template = \"\"\"\n",
    "You are a counsellor. Generate the response to the user's input:\n",
    "User post: \"{user_post}\"\n",
    "Generate a final cohesive response to user in short and concise matter that addresses the user's concerns with \n",
    "you being a counsellor with the scoring for (solution-focused , UnconditionalPostive Regard , Reframing) out of 5 respectively as {counseling_output}\n",
    "\"\"\"\n"
   ]
  },
  {
   "cell_type": "code",
   "execution_count": 104,
   "metadata": {},
   "outputs": [],
   "source": [
    "response_chain = LLMChain(llm=llm_model, prompt=PromptTemplate(input_variables=[\"counseling_output\" , \"user_post\"],\n",
    "                                                               template=response_generation_prompt_template))\n"
   ]
  },
  {
   "cell_type": "code",
   "execution_count": 105,
   "metadata": {},
   "outputs": [],
   "source": [
    "def run_response_generation(counseling_output , input_text):\n",
    "    final_response = response_chain.run(counseling_output=counseling_output , user_post=input_text)\n",
    "    return final_response"
   ]
  },
  {
   "cell_type": "code",
   "execution_count": 106,
   "metadata": {},
   "outputs": [
    {
     "data": {
      "text/plain": [
       "\"I'm really sorry that you're feeling this way, but I'm here to help. It's important to remember that everyone faces challenges and setbacks, and it doesn't reflect on your intelligence or worth as a person. Let's try to focus on the skills and strengths you have, and find ways to apply them to your projects. Perhaps we can reframe this situation as an opportunity for growth rather than a sign of failure. It's also crucial to communicate openly with your wife about your feelings. Lastly, please remember that your life is valuable, and it's okay to seek help when you're feeling overwhelmed. Let's take this one step at a time, together.\""
      ]
     },
     "execution_count": 106,
     "metadata": {},
     "output_type": "execute_result"
    }
   ],
   "source": [
    "run_response_generation(counseling_output , input_text)"
   ]
  },
  {
   "cell_type": "code",
   "execution_count": null,
   "metadata": {},
   "outputs": [],
   "source": [
    "def run_mental_agora(user_post):\n",
    "    debate_history = run_strategic_debate(user_post)\n",
    "\n",
    "    # Stage 2: Tailored Counseling\n",
    "    counselor_compass = run_counseling_stage(debate_history)\n",
    "    print(\"\\n=== Counseling compass ===\")\n",
    "    print(counselor_compass)\n",
    "\n",
    "    # Stage 3: Support Response Generation\n",
    "    final_response = run_response_generation(counselor_compass , user_post)\n",
    "    return final_response\n"
   ]
  },
  {
   "cell_type": "markdown",
   "metadata": {},
   "source": [
    "### Testing Single Agent Output"
   ]
  },
  {
   "cell_type": "code",
   "execution_count": 109,
   "metadata": {},
   "outputs": [],
   "source": [
    "user_text = \"I am failing in every project I take up, and I feel like a failure, and my life is going nowhere. My wife thinks I am stupid, I want to die\"\n",
    "user_text_2 =  \"What should I do if I have to merge the data from different data frames\""
   ]
  },
  {
   "cell_type": "code",
   "execution_count": 110,
   "metadata": {},
   "outputs": [
    {
     "data": {
      "text/plain": [
       "\"I'm really sorry that you're feeling this way, but I'm here to help. It's important to remember that everyone faces challenges and setbacks, and it doesn't reflect your worth as a person. Here are a few things to consider:\\n\\n1. **It's okay to struggle**: Everyone struggles with projects and goals at times. It's a normal part of life and doesn't mean you're a failure.\\n\\n2. **Seek support**: Talk to someone you trust about how you're feeling. This could be a friend, family member, or a professional counselor. They can provide a different perspective and help you navigate through this difficult time.\\n\\n3. **Communicate with your wife**: Open up about how her words make you feel. It's possible she doesn't realize the impact of her comments. Couples counseling could be a safe space to have this conversation.\\n\\n4. **Reframe your thoughts**: Instead of thinking about where you aren't, focus on the progress you've made and the things you've learned. Every setback is an opportunity to grow.\\n\\n5. **Self-care**: Make sure you're taking care of your physical health. Eat well, stay hydrated, and try to get regular exercise. These habits can greatly improve your mood and energy levels.\\n\\n6. **Professional help**: If feelings of hopelessness persist, it's crucial to speak to a mental health professional. They can provide strategies and tools tailored to your situation.\\n\\nPlease remember that you're not alone in feeling this way, and there are people who care about you and want to help. If you're having suicidal thoughts, it's essential to reach out to a mental health professional or a helpline immediately. You deserve to be heard and supported.\\n\\nHere are some resources:\\n- International Association for Suicide Prevention: https://www.iasp.info/resources/Crisis_Centres/\\n- National Suicide Prevention Lifeline (USA): 1-800-273-TALK (8255)\\n- Crisis Text Line (USA): Text HOME to 741741\\n- Samaritans (UK): 116 123\""
      ]
     },
     "execution_count": 110,
     "metadata": {},
     "output_type": "execute_result"
    }
   ],
   "source": [
    "output = run_generation(user_text)\n",
    "output"
   ]
  },
  {
   "cell_type": "code",
   "execution_count": 111,
   "metadata": {},
   "outputs": [
    {
     "data": {
      "text/plain": [
       "\"Merging data from different data frames is a common task in data analysis. Here are some steps and tips to help you through the process:\\n\\n1. **Understand the Data**: Before merging, make sure you understand the structure and content of each data frame. This includes knowing the columns, data types, and any unique identifiers that can be used for merging.\\n\\n2. **Identify Common Keys**: Determine the columns that will be used as keys for merging. These keys should uniquely identify the rows in each data frame.\\n\\n3. **Choose the Merge Type**: Decide on the type of merge you need. Common types include:\\n   - **Inner Join**: Returns only the rows with matching keys in both data frames.\\n   - **Left Join**: Returns all rows from the left data frame and the matched rows from the right data frame.\\n   - **Right Join**: Returns all rows from the right data frame and the matched rows from the left data frame.\\n   - **Outer Join**: Returns all rows when there is a match in either left or right data frame.\\n\\n4. **Use Merging Functions**: In Python, you can use the `pandas` library for merging data frames. Here’s an example:\\n\\n   ```python\\n   import pandas as pd\\n\\n   # Example data frames\\n   df1 = pd.DataFrame({'key': [1, 2, 3], 'value1': ['a', 'b', 'c']})\\n   df2 = pd.DataFrame({'key': [2, 3, 4], 'value2': ['x', 'y', 'z']})\\n\\n   # Merging data frames\\n   merged_df = pd.merge(df1, df2, on='key', how='inner')\\n   ```\\n\\n   In this example, `pd.merge` is used to perform an inner join on the 'key' column.\\n\\n5. **Handle Missing Data**: After merging, you might encounter missing data (NaN values). Decide how to handle these, whether by filling them with default values, dropping them, or using other imputation methods.\\n\\n6. **Verify the Result**: Always check the merged data frame to ensure it contains the expected data. You can use functions like `head()`, `tail()`, and `info()` to inspect the data.\\n\\n7. **Documentation**: Keep notes on the merging process, including the keys used and the type of merge. This will be helpful for future reference and for others who might work with your data.\\n\\nIf you encounter any specific issues or have further questions, feel free to ask!\""
      ]
     },
     "execution_count": 111,
     "metadata": {},
     "output_type": "execute_result"
    }
   ],
   "source": [
    "output = run_generation(user_text_2)\n",
    "output"
   ]
  },
  {
   "cell_type": "markdown",
   "metadata": {},
   "source": [
    "### Testing Multi-agent Output"
   ]
  },
  {
   "cell_type": "code",
   "execution_count": 112,
   "metadata": {},
   "outputs": [
    {
     "name": "stdout",
     "output_type": "stream",
     "text": [
      "\n",
      "=== Counseling compass ===\n",
      "4, 5, 5\n",
      "\n",
      "=== Final Response ===\n",
      "I'm really sorry that you're feeling this way, but I'm here to help. It's important to remember that everyone faces challenges and setbacks, and it doesn't reflect on your intelligence or worth as a person. Let's try to focus on the skills and strengths you have, and find ways to apply them to your projects. Perhaps we can reframe this situation as an opportunity for growth rather than a sign of failure. It's also crucial to communicate openly with your wife about your feelings. Lastly, please remember that your life is valuable, and it's okay to seek help when you're feeling overwhelmed. Let's take this one step at a time, together.\n"
     ]
    }
   ],
   "source": [
    "output_multi_agents = run_mental_agora(user_text)"
   ]
  },
  {
   "cell_type": "code",
   "execution_count": 113,
   "metadata": {},
   "outputs": [
    {
     "data": {
      "text/plain": [
       "\"I'm really sorry that you're feeling this way, but I'm here to help. It's important to remember that everyone faces challenges and setbacks, and it doesn't reflect on your intelligence or worth as a person. Let's try to focus on the skills and strengths you have, and find ways to apply them to your projects. Perhaps we can reframe this situation as an opportunity for growth rather than a sign of failure. It's also crucial to communicate openly with your wife about your feelings. Lastly, please remember that your life is valuable, and it's okay to seek help when you're feeling overwhelmed. Let's take this one step at a time, together.\""
      ]
     },
     "execution_count": 113,
     "metadata": {},
     "output_type": "execute_result"
    }
   ],
   "source": [
    "output_multi_agents"
   ]
  },
  {
   "cell_type": "code",
   "execution_count": 114,
   "metadata": {},
   "outputs": [
    {
     "name": "stdout",
     "output_type": "stream",
     "text": [
      "\n",
      "=== Counseling compass ===\n",
      "4, 3, 5\n",
      "\n",
      "=== Final Response ===\n",
      "It sounds like you're facing a challenge with merging data from different data frames. This can be a common task in data analysis. One approach is to use tools like pandas in Python, which has functions like `merge` or `concat` that can help you combine data frames efficiently. If you're using another tool, there are likely similar functions available. Breaking the task into smaller steps and focusing on one merge at a time can make it more manageable. Remember, each step you take brings you closer to your goal. If you encounter any specific issues, feel free to ask for more detailed guidance. You're capable of handling this, and taking it step by step will help you succeed.\n"
     ]
    },
    {
     "data": {
      "text/plain": [
       "\"It sounds like you're facing a challenge with merging data from different data frames. This can be a common task in data analysis. One approach is to use tools like pandas in Python, which has functions like `merge` or `concat` that can help you combine data frames efficiently. If you're using another tool, there are likely similar functions available. Breaking the task into smaller steps and focusing on one merge at a time can make it more manageable. Remember, each step you take brings you closer to your goal. If you encounter any specific issues, feel free to ask for more detailed guidance. You're capable of handling this, and taking it step by step will help you succeed.\""
      ]
     },
     "execution_count": 114,
     "metadata": {},
     "output_type": "execute_result"
    }
   ],
   "source": [
    "output_multi_agents = run_mental_agora(user_text_2)\n",
    "output_multi_agents"
   ]
  }
 ],
 "metadata": {
  "kernelspec": {
   "display_name": "Python 3",
   "language": "python",
   "name": "python3"
  },
  "language_info": {
   "codemirror_mode": {
    "name": "ipython",
    "version": 3
   },
   "file_extension": ".py",
   "mimetype": "text/x-python",
   "name": "python",
   "nbconvert_exporter": "python",
   "pygments_lexer": "ipython3",
   "version": "3.12.5"
  }
 },
 "nbformat": 4,
 "nbformat_minor": 2
}
